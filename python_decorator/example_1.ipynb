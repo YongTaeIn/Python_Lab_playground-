{
 "cells": [
  {
   "cell_type": "code",
   "execution_count": null,
   "id": "c1df02a5",
   "metadata": {},
   "outputs": [
    {
     "name": "stdout",
     "output_type": "stream",
     "text": [
      "hello\n"
     ]
    }
   ],
   "source": [
    "# ============================================\n",
    "# 1. 기본 함수 정의\n",
    "# ============================================\n",
    "# 가장 단순한 형태의 함수입니다.\n",
    "# 이 함수는 \"hello\"를 출력하는 기능만 가지고 있습니다.\n",
    "\n",
    "def hello():\n",
    "    print(\"hello\")\n",
    "\n",
    "hello()  # 함수 호출: \"hello\" 출력"
   ]
  },
  {
   "cell_type": "code",
   "execution_count": null,
   "id": "c6eee064",
   "metadata": {},
   "outputs": [
    {
     "name": "stdout",
     "output_type": "stream",
     "text": [
      "********************\n",
      "hello\n",
      "********************\n"
     ]
    }
   ],
   "source": [
    "# ============================================\n",
    "# 2. 데코레이터 함수를 직접 사용하는 방법\n",
    "# ============================================\n",
    "# 데코레이터의 핵심 원리를 이해하기 위한 예제입니다.\n",
    "\n",
    "def deco(fn):\n",
    "    \"\"\"\n",
    "    데코레이터 함수\n",
    "    - 다른 함수(fn)를 입력으로 받아서\n",
    "    - 새로운 기능이 추가된 함수를 반환합니다\n",
    "    \"\"\"\n",
    "    def deco_hello():\n",
    "        # ★ 원래 함수 실행 '전'에 추가 기능\n",
    "        print(\"*\" * 20)\n",
    "        \n",
    "        # ★ 원래 함수 실행\n",
    "        fn()\n",
    "        \n",
    "        # ★ 원래 함수 실행 '후'에 추가 기능\n",
    "        print(\"*\" * 20)\n",
    "    \n",
    "    return deco_hello  # 새로운 기능이 추가된 함수를 반환\n",
    "\n",
    "\n",
    "# 데코레이터 사용 방법 (수동)\n",
    "# 1. hello 함수를 deco()에 전달\n",
    "# 2. 반환된 새 함수를 deco_hello에 저장\n",
    "deco_hello = deco(hello)\n",
    "\n",
    "# 3. 새 함수 호출 → 별표 + hello + 별표 출력\n",
    "deco_hello()\n"
   ]
  },
  {
   "cell_type": "code",
   "execution_count": null,
   "id": "dfe1b37f",
   "metadata": {},
   "outputs": [
    {
     "name": "stdout",
     "output_type": "stream",
     "text": [
      "********************\n",
      "hello 2\n",
      "********************\n"
     ]
    }
   ],
   "source": [
    "# ============================================\n",
    "# 3. 데코레이터 문법 (@)을 사용하는 방법\n",
    "# ============================================\n",
    "# Python에서 제공하는 간편한 데코레이터 문법입니다.\n",
    "# @deco는 내부적으로 hello2 = deco(hello2)와 동일하게 작동합니다.\n",
    "\n",
    "@deco  # ← 이 한 줄이 \"hello2 = deco(hello2)\"와 같은 의미!\n",
    "def hello2():\n",
    "    print(\"hello 2\")\n",
    "\n",
    "# hello2()를 호출하면:\n",
    "# 1. @deco가 hello2 함수를 감싸서\n",
    "# 2. 별표 출력 → hello2() 실행 → 별표 출력 순서로 동작합니다\n",
    "hello2()\n",
    "\n",
    "# 📝 정리:\n",
    "# - 위의 코드는 아래 코드와 완전히 동일합니다:\n",
    "#   def hello2():\n",
    "#       print(\"hello 2\")\n",
    "#   hello2 = deco(hello2)\n",
    "#   hello2()\n"
   ]
  }
 ],
 "metadata": {
  "kernelspec": {
   "display_name": "Python 3",
   "language": "python",
   "name": "python3"
  },
  "language_info": {
   "codemirror_mode": {
    "name": "ipython",
    "version": 3
   },
   "file_extension": ".py",
   "mimetype": "text/x-python",
   "name": "python",
   "nbconvert_exporter": "python",
   "pygments_lexer": "ipython3",
   "version": "3.10.10"
  }
 },
 "nbformat": 4,
 "nbformat_minor": 5
}
